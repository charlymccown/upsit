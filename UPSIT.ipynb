{
 "metadata": {
  "name": "",
  "signature": "sha256:8091a693ce1ed3666edb0177bbae1aec73731e71e2ba7e31b47a426158af13c5"
 },
 "nbformat": 3,
 "nbformat_minor": 0,
 "worksheets": [
  {
   "cells": [
    {
     "cell_type": "code",
     "collapsed": false,
     "input": [
      "cd ~/Dropbox/upsit/"
     ],
     "language": "python",
     "metadata": {},
     "outputs": [
      {
       "output_type": "stream",
       "stream": "stdout",
       "text": [
        "/Users/rgerkin/Dropbox/upsit\n"
       ]
      }
     ],
     "prompt_number": 1
    },
    {
     "cell_type": "code",
     "collapsed": false,
     "input": [
      "import scratch"
     ],
     "language": "python",
     "metadata": {},
     "outputs": [],
     "prompt_number": 2
    },
    {
     "cell_type": "code",
     "collapsed": false,
     "input": [
      "X_responses,n_ctrl = scratch.response_matrix(options=['responses'])"
     ],
     "language": "python",
     "metadata": {},
     "outputs": [
      {
       "output_type": "stream",
       "stream": "stdout",
       "text": [
        "WARNING *** OLE2 inconsistency: SSCS size is 0 but SSAT size is non-zero\n"
       ]
      }
     ],
     "prompt_number": 3
    },
    {
     "cell_type": "code",
     "collapsed": false,
     "input": [
      "X_total_correct,n_ctrl = scratch.response_matrix(options=['total_correct'])"
     ],
     "language": "python",
     "metadata": {},
     "outputs": [
      {
       "output_type": "stream",
       "stream": "stdout",
       "text": [
        "WARNING *** OLE2 inconsistency: SSCS size is 0 but SSAT size is non-zero\n"
       ]
      }
     ],
     "prompt_number": 4
    },
    {
     "cell_type": "code",
     "collapsed": false,
     "input": [
      "X_total_correct = hstack((X_total_correct,ones(X_total_correct.shape))) # Needed to deal with bug in sklearn.naive_bayes"
     ],
     "language": "python",
     "metadata": {},
     "outputs": [],
     "prompt_number": 5
    },
    {
     "cell_type": "code",
     "collapsed": false,
     "input": [
      "from sklearn.naive_bayes import MultinomialNB, BernoulliNB"
     ],
     "language": "python",
     "metadata": {},
     "outputs": [],
     "prompt_number": 6
    },
    {
     "cell_type": "code",
     "collapsed": false,
     "input": [
      "mnb = MultinomialNB(alpha=0.1,fit_prior=True)\n",
      "bnb = BernoulliNB(alpha=0.1,fit_prior=True)"
     ],
     "language": "python",
     "metadata": {},
     "outputs": [],
     "prompt_number": 7
    },
    {
     "cell_type": "code",
     "collapsed": false,
     "input": [
      "from sklearn.cross_validation import cross_val_score,LeaveOneOut"
     ],
     "language": "python",
     "metadata": {},
     "outputs": [],
     "prompt_number": 8
    },
    {
     "cell_type": "code",
     "collapsed": false,
     "input": [
      "n_subjects = X_total_correct.shape[0]"
     ],
     "language": "python",
     "metadata": {},
     "outputs": [],
     "prompt_number": 9
    },
    {
     "cell_type": "code",
     "collapsed": false,
     "input": [
      "n_pd = n_subjects - n_ctrl"
     ],
     "language": "python",
     "metadata": {},
     "outputs": [],
     "prompt_number": 10
    },
    {
     "cell_type": "code",
     "collapsed": false,
     "input": [
      "loo = LeaveOneOut(n_subjects)"
     ],
     "language": "python",
     "metadata": {},
     "outputs": [],
     "prompt_number": 11
    },
    {
     "cell_type": "code",
     "collapsed": false,
     "input": [
      "Y = hstack((ones(n_ctrl),zeros(n_pd)))"
     ],
     "language": "python",
     "metadata": {},
     "outputs": [],
     "prompt_number": 12
    },
    {
     "cell_type": "code",
     "collapsed": false,
     "input": [
      "cross_val_score(mnb,X_total_correct,Y,cv=loo).mean()"
     ],
     "language": "python",
     "metadata": {},
     "outputs": [
      {
       "metadata": {},
       "output_type": "pyout",
       "prompt_number": 13,
       "text": [
        "0.75"
       ]
      }
     ],
     "prompt_number": 13
    },
    {
     "cell_type": "code",
     "collapsed": false,
     "input": [
      "cross_val_score(mnb,X_responses,Y,cv=loo).mean()"
     ],
     "language": "python",
     "metadata": {},
     "outputs": [
      {
       "metadata": {},
       "output_type": "pyout",
       "prompt_number": 14,
       "text": [
        "0.90217391304347827"
       ]
      }
     ],
     "prompt_number": 14
    },
    {
     "cell_type": "code",
     "collapsed": false,
     "input": [
      "p_parks_responses_bnb = []; p_parks_responses_mnb = []; p_parks_total_correct = [];\n",
      "for i, (train, test) in enumerate(loo):\n",
      "    mnb.fit(X_total_correct[train], Y[train])\n",
      "    p_parks_total_correct.append(mnb.predict_proba(X_total_correct[test])[:,1][0])\n",
      "    mnb.fit(X_responses[train], Y[train])\n",
      "    p_parks_responses_mnb.append(mnb.fit(X_responses[train], Y[train]).predict_proba(X_responses[test])[:,1][0])\n",
      "    bnb.fit(X_responses[train], Y[train])\n",
      "    p_parks_responses_bnb.append(bnb.fit(X_responses[train], Y[train]).predict_proba(X_responses[test])[:,1][0])"
     ],
     "language": "python",
     "metadata": {},
     "outputs": [],
     "prompt_number": 15
    },
    {
     "cell_type": "code",
     "collapsed": false,
     "input": [
      "from sklearn.metrics import roc_curve, auc"
     ],
     "language": "python",
     "metadata": {},
     "outputs": [],
     "prompt_number": 16
    },
    {
     "cell_type": "code",
     "collapsed": false,
     "input": [
      "fpr_tc, tpr_tc, thresholds_tc = roc_curve(Y, p_parks_total_correct)\n",
      "fpr_r_bnb, tpr_r_bnb, thresholds_r_bnb = roc_curve(Y, p_parks_responses_bnb)\n",
      "fpr_r_mnb, tpr_r_mnb, thresholds_r_mnb = roc_curve(Y, p_parks_responses_mnb)"
     ],
     "language": "python",
     "metadata": {},
     "outputs": [],
     "prompt_number": 17
    },
    {
     "cell_type": "code",
     "collapsed": false,
     "input": [
      "roc_auc_tc = auc(fpr_tc, tpr_tc)\n",
      "roc_auc_r_bnb = auc(fpr_r_bnb, tpr_r_bnb)\n",
      "roc_auc_r_mnb = auc(fpr_r_mnb, tpr_r_mnb)"
     ],
     "language": "python",
     "metadata": {},
     "outputs": [],
     "prompt_number": 18
    },
    {
     "cell_type": "code",
     "collapsed": false,
     "input": [
      "plot(fpr_tc, tpr_tc, lw=2, color='gray', label='AUC using Total Correct = %0.2f' % (roc_auc_tc))\n",
      "#plot(fpr_r_bnb, tpr_r_bnb, lw=2, color='r', label='Responses area = %0.2f' % (roc_auc_r_bnb))\n",
      "plot(fpr_r_mnb, tpr_r_mnb, lw=2, color='g', label='AUC using individual responses = %0.2f' % (roc_auc_r_mnb))\n",
      "xlabel('False Positive Rate', fontsize='large', fontweight='bold')\n",
      "ylabel('True Positive Rate', fontsize='large', fontweight='bold')\n",
      "title('ROC curves', fontsize='large', fontweight='bold')\n",
      "xticks(fontsize='large', fontweight='bold')\n",
      "yticks(fontsize='large', fontweight='bold')\n",
      "legend(loc=\"lower right\")"
     ],
     "language": "python",
     "metadata": {},
     "outputs": [
      {
       "metadata": {},
       "output_type": "pyout",
       "prompt_number": 30,
       "text": [
        "<matplotlib.legend.Legend at 0x1073718d0>"
       ]
      },
      {
       "metadata": {},
       "output_type": "display_data",
       "png": "[encoded data removed]",
       "text": [
        "<matplotlib.figure.Figure at 0x107230910>"
       ]
      }
     ],
     "prompt_number": 30
    },
    {
     "cell_type": "code",
     "collapsed": false,
     "input": [],
     "language": "python",
     "metadata": {},
     "outputs": [],
     "prompt_number": 19
    },
    {
     "cell_type": "code",
     "collapsed": false,
     "input": [],
     "language": "python",
     "metadata": {},
     "outputs": []
    }
   ],
   "metadata": {}
  }
 ]
}